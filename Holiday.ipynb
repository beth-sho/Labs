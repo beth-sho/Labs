{
 "cells": [
  {
   "cell_type": "markdown",
   "id": "f00a8122",
   "metadata": {},
   "source": [
    "## This is the folder showing Hilal's preferred holiday spot"
   ]
  },
  {
   "cell_type": "code",
   "execution_count": 1,
   "id": "b0b1967c",
   "metadata": {},
   "outputs": [
    {
     "name": "stdout",
     "output_type": "stream",
     "text": [
      "Where is your favorite vacation spot?:Seaside\n",
      "Seaside\n"
     ]
    }
   ],
   "source": [
    "vac_spot= input(\"Where is your favorite vacation spot?:\")\n",
    "print(vac_spot)"
   ]
  },
  {
   "cell_type": "markdown",
   "id": "e0299ad9",
   "metadata": {},
   "source": []
  },
  {
   "cell_type": "markdown",
   "id": "50330d99",
   "metadata": {},
   "source": [
    "![alt text](https://imageio.forbes.com/specials-images/imageserve/1206826879/Earthshine--Earthlight-or-planet-shine-will-be-visible-this-coming-week-in-the-early/960x0.jpg?fit=bounds&format=jpg&width=960)"
   ]
  },
  {
   "cell_type": "markdown",
   "id": "5cc593b8",
   "metadata": {},
   "source": [
    "![alt text](https://freedesignfile.com/upload/2017/01/Beautiful-seaside-sunset-Stock-Photo.jpg)"
   ]
  },
  {
   "cell_type": "markdown",
   "id": "0de4c89f",
   "metadata": {},
   "source": [
    "*3 FAVORITE ACTIVITIES BY THE SEASIDE*\n",
    "- Swimming\n",
    "- Jogging\n",
    "- Eating ice cream"
   ]
  },
  {
   "cell_type": "code",
   "execution_count": null,
   "id": "f1a65ce1",
   "metadata": {},
   "outputs": [],
   "source": []
  }
 ],
 "metadata": {
  "kernelspec": {
   "display_name": "Python 3 (ipykernel)",
   "language": "python",
   "name": "python3"
  },
  "language_info": {
   "codemirror_mode": {
    "name": "ipython",
    "version": 3
   },
   "file_extension": ".py",
   "mimetype": "text/x-python",
   "name": "python",
   "nbconvert_exporter": "python",
   "pygments_lexer": "ipython3",
   "version": "3.9.7"
  }
 },
 "nbformat": 4,
 "nbformat_minor": 5
}
